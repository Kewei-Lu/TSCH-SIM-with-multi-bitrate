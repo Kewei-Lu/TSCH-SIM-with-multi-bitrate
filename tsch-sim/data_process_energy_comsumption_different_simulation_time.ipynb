{
 "cells": [
  {
   "cell_type": "code",
   "execution_count": 8,
   "id": "1934d681",
   "metadata": {},
   "outputs": [],
   "source": [
    "# based on the simulation for 3600s\n",
    "# the energy consumption will increase with the increasement of bitrate\n",
    "# in this script, it will research the energy consumption for different bitrate in terms of simulation time\n",
    "import matplotlib.pyplot as plt\n",
    "import json\n",
    "import itertools\n",
    "import numpy as np\n",
    "import pandas as pd"
   ]
  },
  {
   "cell_type": "code",
   "execution_count": 9,
   "id": "c91fb0d4",
   "metadata": {},
   "outputs": [],
   "source": [
    "duration = [5704,10716,29380,156900]\n",
    "times = [600,1200,1800]\n",
    "result = {}\n",
    "loops = 10"
   ]
  },
  {
   "cell_type": "code",
   "execution_count": 10,
   "id": "7040b63d",
   "metadata": {},
   "outputs": [],
   "source": [
    "for time in times:\n",
    "    for d in duration:\n",
    "        title = '{}&{}'.format(time,d)\n",
    "        result[title] = {'before_joined':[],\n",
    "                         'after_joined':[],\n",
    "                         'total':[]\n",
    "                        }\n",
    "        for loop in range(loops):\n",
    "            with open('./examples/mesh/results/energy_consumption_with_time/energy-with-time-{}s-{}-{}/stats.json'.format(d,time,loop),'r') as f:\n",
    "                data = json.load(f)\n",
    "                charge_consumed_total = data[\"part 1\"][\"global-stats for this duration\"][\"current-consumed\"][0][\"mean\"]\n",
    "                charge_consumed_joined = data[\"part 1\"][\"global-stats for this duration\"][\"current-consumed-when-joined\"][0][\"mean\"]\n",
    "                charge_consumed_before_joining = charge_consumed_total - charge_consumed_joined\n",
    "                result[title][\"before_joined\"].append(charge_consumed_before_joining)\n",
    "                result[title][\"after_joined\"].append(charge_consumed_joined)\n",
    "                result[title][\"total\"].append(charge_consumed_total)"
   ]
  },
  {
   "cell_type": "code",
   "execution_count": 11,
   "id": "99ffe4fe",
   "metadata": {},
   "outputs": [],
   "source": [
    "json_str = json.dumps(result)\n",
    "with open('./examples/mesh/single_model_result/energy_with_simulation_time_stats.json','w') as f:\n",
    "    f.write(json_str)"
   ]
  },
  {
   "cell_type": "code",
   "execution_count": 12,
   "id": "a3ed90f0",
   "metadata": {},
   "outputs": [
    {
     "data": {
      "image/png": "[encoded data removed]",
      "text/plain": [
       "<Figure size 432x288 with 1 Axes>"
      ]
     },
     "metadata": {
      "needs_background": "light"
     },
     "output_type": "display_data"
    }
   ],
   "source": [
    "# bar plot\n",
    "# energy consumption after joining\n",
    "data_after_joined = [       \n",
    "        ['1000kbps',\n",
    "         np.mean(result['600&5704']['after_joined']),\n",
    "         np.mean(result['1200&5704']['after_joined']),\n",
    "         np.mean(result['1800&5704']['after_joined']),\n",
    "        ],\n",
    "        ['250kbps',\n",
    "         np.mean(result['600&10716']['after_joined']),\n",
    "         np.mean(result['1200&10716']['after_joined']),\n",
    "         np.mean(result['1800&10716']['after_joined']),\n",
    "        ],\n",
    "         ['50kbps',\n",
    "         np.mean(result['600&29380']['after_joined']),\n",
    "         np.mean(result['1200&29380']['after_joined']),\n",
    "         np.mean(result['1800&29380']['after_joined']),\n",
    "        ],\n",
    "        ['50kbps',\n",
    "         np.mean(result['600&156900']['after_joined']),\n",
    "         np.mean(result['1200&156900']['after_joined']),\n",
    "         np.mean(result['1800&156900']['after_joined']),\n",
    "        ],\n",
    "]\n",
    "df = pd.DataFrame(data_after_joined,columns=['bitrate','600s','1200s','1800s'])\n",
    "energy_after_joined = df.plot(x='bitrate',y=['600s','1200s','1800s'],kind='bar',title=\"energy_consumption_after_joined\",xlabel='bitrate',ylabel='energy(mA)',legend=True)\n",
    "#PDR_fig.set_xlabel('bitrate')\n",
    "energy_after_joined  = energy_after_joined .get_figure()\n",
    "energy_after_joined.savefig('./examples/mesh/single_model_result/energy_with_time_after_joined.pdf',bbox_inches = 'tight')\n",
    "#plt.grid(linestyle=\"--\", alpha=0.3)\n",
    "plt.show()"
   ]
  },
  {
   "cell_type": "code",
   "execution_count": 13,
   "id": "1d01e2ca",
   "metadata": {},
   "outputs": [
    {
     "data": {
      "image/png": "[encoded data removed]",
      "text/plain": [
       "<Figure size 432x288 with 1 Axes>"
      ]
     },
     "metadata": {
      "needs_background": "light"
     },
     "output_type": "display_data"
    }
   ],
   "source": [
    "# bar plot\n",
    "# energy consumption total\n",
    "data_after_joined = [       \n",
    "        ['1000kbps',\n",
    "         np.mean(result['600&5704'][\"total\"]),\n",
    "         np.mean(result['1200&5704'][\"total\"]),\n",
    "         np.mean(result['1800&5704'][\"total\"]),\n",
    "        ],\n",
    "        ['250kbps',\n",
    "         np.mean(result['600&10716'][\"total\"]),\n",
    "         np.mean(result['1200&10716'][\"total\"]),\n",
    "         np.mean(result['1800&10716'][\"total\"]),\n",
    "        ],\n",
    "         ['50kbps',\n",
    "         np.mean(result['600&29380'][\"total\"]),\n",
    "         np.mean(result['1200&29380'][\"total\"]),\n",
    "         np.mean(result['1800&29380'][\"total\"]),\n",
    "        ],\n",
    "        ['50kbps',\n",
    "         np.mean(result['600&156900'][\"total\"]),\n",
    "         np.mean(result['1200&156900'][\"total\"]),\n",
    "         np.mean(result['1800&156900'][\"total\"]),\n",
    "        ],\n",
    "]\n",
    "df = pd.DataFrame(data_after_joined,columns=['bitrate','600','1200','1800'])\n",
    "energy_after_joined = df.plot(x='bitrate',y=['600','1200','1800'],kind='bar',title=\"total energy consumption\",xlabel='bitrate',ylabel='energy(mA)',legend=False)\n",
    "#PDR_fig.set_xlabel('bitrate')\n",
    "energy_after_joined  = energy_after_joined .get_figure()\n",
    "energy_after_joined.savefig('./examples/mesh/single_model_result/energy_with_time_after_joined.pdf',bbox_inches = 'tight')\n",
    "#plt.grid(linestyle=\"--\", alpha=0.3)\n",
    "plt.show()"
   ]
  },
  {
   "cell_type": "code",
   "execution_count": 14,
   "id": "2ceded59",
   "metadata": {},
   "outputs": [
    {
     "data": {
      "image/png": "[encoded data removed]",
      "text/plain": [
       "<Figure size 432x288 with 1 Axes>"
      ]
     },
     "metadata": {
      "needs_background": "light"
     },
     "output_type": "display_data"
    }
   ],
   "source": [
    "# bar plot\n",
    "# energy consumption for joining\n",
    "data_after_joined = [       \n",
    "        ['1000kbps',\n",
    "         np.mean(result['600&5704']['before_joined']),\n",
    "         np.mean(result['1200&5704']['before_joined']),\n",
    "         np.mean(result['1800&5704']['before_joined']),\n",
    "        ],\n",
    "        ['250kbps',\n",
    "         np.mean(result['600&10716']['before_joined']),\n",
    "         np.mean(result['1200&10716']['before_joined']),\n",
    "         np.mean(result['1800&10716']['before_joined']),\n",
    "        ],\n",
    "         ['50kbps',\n",
    "         np.mean(result['600&29380']['before_joined']),\n",
    "         np.mean(result['1200&29380']['before_joined']),\n",
    "         np.mean(result['1800&29380']['before_joined']),\n",
    "        ],\n",
    "        ['50kbps',\n",
    "         np.mean(result['600&156900']['before_joined']),\n",
    "         np.mean(result['1200&156900']['before_joined']),\n",
    "         np.mean(result['1800&156900']['before_joined']),\n",
    "        ],\n",
    "]\n",
    "df = pd.DataFrame(data_after_joined,columns=['bitrate','600','1200','1800'])\n",
    "energy_after_joined = df.plot(x='bitrate',y=['600','1200','1800'],kind='bar',title=\"energy consumption for joining\",xlabel='bitrate',ylabel='energy consumption (mA)',legend=False)\n",
    "#PDR_fig.set_xlabel('bitrate')\n",
    "energy_after_joined  = energy_after_joined .get_figure()\n",
    "energy_after_joined.savefig('./examples/mesh/single_model_result/energy_with_time_after_joined.pdf',bbox_inches = 'tight')\n",
    "#plt.grid(linestyle=\"--\", alpha=0.3)\n",
    "plt.show()"
   ]
  },
  {
   "cell_type": "code",
   "execution_count": null,
   "id": "d36a2211",
   "metadata": {},
   "outputs": [],
   "source": []
  }
 ],
 "metadata": {
  "kernelspec": {
   "display_name": "Python 3",
   "language": "python",
   "name": "python3"
  },
  "language_info": {
   "codemirror_mode": {
    "name": "ipython",
    "version": 3
   },
   "file_extension": ".py",
   "mimetype": "text/x-python",
   "name": "python",
   "nbconvert_exporter": "python",
   "pygments_lexer": "ipython3",
   "version": "3.6.9"
  }
 },
 "nbformat": 4,
 "nbformat_minor": 5
}
