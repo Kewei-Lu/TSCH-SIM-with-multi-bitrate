{
 "cells": [
  {
   "cell_type": "code",
   "execution_count": 1,
   "id": "fb8e3f51",
   "metadata": {},
   "outputs": [],
   "source": [
    "import matplotlib.pyplot as plt\n",
    "import json\n",
    "import itertools\n",
    "import re\n",
    "import pandas as pd\n",
    "import numpy as np"
   ]
  },
  {
   "cell_type": "code",
   "execution_count": 2,
   "id": "da6413a1",
   "metadata": {},
   "outputs": [],
   "source": [
    "# analyze the duty cycle when have a 60s per packet traffic \n",
    "# you will see the high idle cycle take place when using high bitrate\n",
    "speed = ['1000kbps','250kbps','50kbps']\n",
    "cata = ['tx_bc','tx_uc','rx_bc','rx_uc','rx_idle']\n",
    "result = {\n",
    "    '1000kbps':{},\n",
    "    '250kbps':{},\n",
    "    '50kbps':{}\n",
    "}\n",
    "for s in speed:\n",
    "    for key in cata:\n",
    "        result[s][key] = 0"
   ]
  },
  {
   "cell_type": "code",
   "execution_count": 20,
   "id": "c5860c09",
   "metadata": {},
   "outputs": [],
   "source": [
    "for s in speed:\n",
    "    file_name = '{}.txt'.format(s)\n",
    "    with open('./examples/mesh/results/duty cycle analysis/{}'.format(file_name),'r') as f:\n",
    "        text = f.read()\n",
    "        result[s]['tx_bc'] = float(re.findall('duty_cycle_rx_bc=.+, duty_cycle_tx_bc=(.+),duty_cycle_rx_uc=.+,duty_cycle_tx_uc=.+,duty_cycle_rx_idle=.+',text)[0])\n",
    "        result[s]['rx_bc'] = float(re.findall('duty_cycle_rx_bc=(.+), duty_cycle_tx_bc=.+,duty_cycle_rx_uc=.+,duty_cycle_tx_uc=.+,duty_cycle_rx_idle=.+',text)[0])\n",
    "        result[s]['tx_uc'] = float(re.findall('duty_cycle_rx_bc=.+, duty_cycle_tx_bc=.+,duty_cycle_rx_uc=.+,duty_cycle_tx_uc=(.+),duty_cycle_rx_idle=.+',text)[0])\n",
    "        result[s]['rx_uc'] = float(re.findall('duty_cycle_rx_bc=.+, duty_cycle_tx_bc=.+,duty_cycle_rx_uc=(.+),duty_cycle_tx_uc=.+,duty_cycle_rx_idle=.+',text)[0])\n",
    "        result[s]['rx_idle'] = float(re.findall('duty_cycle_rx_bc=.+, duty_cycle_tx_bc=.+,duty_cycle_rx_uc=.+,duty_cycle_tx_uc=.+,duty_cycle_rx_idle=(.+)',text)[0])\n",
    "                    "
   ]
  },
  {
   "cell_type": "code",
   "execution_count": 21,
   "id": "c8f58018",
   "metadata": {},
   "outputs": [
    {
     "data": {
      "text/plain": [
       "{'1000kbps': {'tx_bc': 0.0002662037226291274,\n",
       "  'tx_uc': 0.0032584817131392,\n",
       "  'rx_bc': 0.0002662037226291274,\n",
       "  'rx_uc': 0.005115389252561146,\n",
       "  'rx_idle': 3.5604128457157302},\n",
       " '250kbps': {'tx_bc': 0.0010462229964429135,\n",
       "  'tx_uc': 0.010871563600675493,\n",
       "  'rx_bc': 0.0010462229964429135,\n",
       "  'rx_uc': 0.012779750197947345,\n",
       "  'rx_idle': 1.989607120487225},\n",
       " '50kbps': {'tx_bc': 0.005475570522124213,\n",
       "  'tx_uc': 0.05036161913665869,\n",
       "  'rx_bc': 0.005475570522124213,\n",
       "  'rx_uc': 0.05202440145937762,\n",
       "  'rx_idle': 0.9111761016606582}}"
      ]
     },
     "execution_count": 21,
     "metadata": {},
     "output_type": "execute_result"
    }
   ],
   "source": [
    "result"
   ]
  },
  {
   "cell_type": "code",
   "execution_count": 38,
   "id": "a09f3430",
   "metadata": {},
   "outputs": [
    {
     "data": {
      "image/png": "[encoded data removed]",
      "text/plain": [
       "<Figure size 432x288 with 1 Axes>"
      ]
     },
     "metadata": {
      "needs_background": "light"
     },
     "output_type": "display_data"
    }
   ],
   "source": [
    "x = range(1,4)\n",
    "plt.bar(x=x, height=[result['50kbps']['rx_idle']/100*7200,result['250kbps']['rx_idle']/100*7200,result['1000kbps']['rx_idle']/100*7200],\n",
    "        width=0.4, alpha=0.8, color='blue', label=\"rx_idle\",tick_label=['50kbps','250kbps','1000kbps'])\n",
    "plt.xlabel('bitrate')\n",
    "plt.ylabel('seconds')\n",
    "plt.title('time spent on idle status')\n",
    "'''plt.bar(x=[i + 0.2 for i in x], height=[result['50kbps']['rx_bc']/100*7200+result['50kbps']['rx_uc']/100*7200,\n",
    "                           result['50kbps']['rx_bc']/100*7200+result['50kbps']['rx_uc']/100*7200,\n",
    "                           result['50kbps']['rx_bc']/100*7200+result['50kbps']['rx_uc']/100*7200,],\n",
    "        width=0.2, alpha=0.8, color='blue', label=\"rx\",tick_label=['50kbps','250kbps','1000kbps'])\n",
    "'''\n",
    "'''plt.bar(x=[i + 0.4 for i in x], height=[result['50kbps']['tx_bc']/100*7200+result['50kbps']['tx_uc']/100*7200,\n",
    "                           result['50kbps']['tx_bc']/100*7200+result['50kbps']['tx_uc']/100*7200,\n",
    "                           result['50kbps']['tx_bc']/100*7200+result['50kbps']['tx_uc']/100*7200,],\n",
    "        width=0.2, alpha=0.8, color='orange', label=\"rx\",tick_label=['50kbps','250kbps','1000kbps'])\n",
    "'''#plt.yticks(np.arange(-0.5,4,0.5))\n",
    "\n",
    "plt.show()"
   ]
  },
  {
   "cell_type": "code",
   "execution_count": null,
   "id": "233d8890",
   "metadata": {},
   "outputs": [],
   "source": []
  }
 ],
 "metadata": {
  "kernelspec": {
   "display_name": "Python 3",
   "language": "python",
   "name": "python3"
  },
  "language_info": {
   "codemirror_mode": {
    "name": "ipython",
    "version": 3
   },
   "file_extension": ".py",
   "mimetype": "text/x-python",
   "name": "python",
   "nbconvert_exporter": "python",
   "pygments_lexer": "ipython3",
   "version": "3.6.9"
  }
 },
 "nbformat": 4,
 "nbformat_minor": 5
}
